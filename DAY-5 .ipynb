{
 "cells": [
  {
   "cell_type": "raw",
   "metadata": {},
   "source": [
    "QUESTION-\n",
    "\n",
    "Design a data structure that supports the following two operations:\n",
    "\n",
    "void addWord(word)\n",
    "bool search(word)\n",
    "search(word) can search a literal word or a regular expression string containing only letters a-z or .. A . means it can represent any one letter.\n",
    "\n",
    "Example:\n",
    "\n",
    "addWord(\"bad\")\n",
    "addWord(\"dad\")\n",
    "addWord(\"mad\")\n",
    "search(\"pad\") -> false\n",
    "search(\"bad\") -> true\n",
    "search(\".ad\") -> true\n",
    "search(\"b..\") -> true\n",
    "Note:\n",
    "You may assume that all words are consist of lowercase letters a-z.\n",
    "\n"
   ]
  },
  {
   "cell_type": "code",
   "execution_count": null,
   "metadata": {},
   "outputs": [],
   "source": [
    "class WordDictionary(object):\n",
    "\n",
    "    def __init__(self):\n",
    "        self.t = {}\n",
    "        \n",
    "\n",
    "    def addWord(self, word):\n",
    "        curr = self.t\n",
    "        for char in word:\n",
    "            if char not in curr:\n",
    "                curr[char] = {}\n",
    "            curr = curr[char]\n",
    "        curr['#'] = {} # the end\n",
    "\n",
    "    def search(self, word):\n",
    "        if not word: return True\n",
    "        stack = [(0, self.t)]\n",
    "        while(stack):\n",
    "            curr, trie = stack.pop()\n",
    "            if curr == len(word): # check if it is the end\n",
    "                if '#' in trie:\n",
    "                    return True\n",
    "                else: # cannot return False due to the '.' case\n",
    "                    continue\n",
    "                    \n",
    "            if word[curr] == '.': # search all children if the curr is '.'\n",
    "                for child in trie:\n",
    "                    stack.append((curr + 1, trie[child]))\n",
    "            else:\n",
    "                if word[curr] in trie: # otherwise search the corresponding children\n",
    "                    stack.append((curr + 1, trie[word[curr]]))\n",
    "        return False"
   ]
  }
 ],
 "metadata": {
  "kernelspec": {
   "display_name": "Python 3",
   "language": "python",
   "name": "python3"
  },
  "language_info": {
   "codemirror_mode": {
    "name": "ipython",
    "version": 3
   },
   "file_extension": ".py",
   "mimetype": "text/x-python",
   "name": "python",
   "nbconvert_exporter": "python",
   "pygments_lexer": "ipython3",
   "version": "3.7.6"
  }
 },
 "nbformat": 4,
 "nbformat_minor": 4
}
