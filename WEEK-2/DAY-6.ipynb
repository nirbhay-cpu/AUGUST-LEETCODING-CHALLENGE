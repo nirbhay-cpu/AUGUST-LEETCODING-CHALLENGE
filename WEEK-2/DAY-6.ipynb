{
 "cells": [
  {
   "cell_type": "code",
   "execution_count": null,
   "metadata": {},
   "outputs": [],
   "source": [
    "QUESTION-\n",
    "\n",
    "Design an Iterator class, which has:\n",
    "\n",
    "A constructor that takes a string characters of sorted distinct lowercase English letters and a number combinationLength as arguments.\n",
    "A function next() that returns the next combination of length combinationLength in lexicographical order.\n",
    "A function hasNext() that returns True if and only if there exists a next combination.\n",
    " \n",
    "\n",
    "Example:\n",
    "\n",
    "CombinationIterator iterator = new CombinationIterator(\"abc\", 2); // creates the iterator.\n",
    "\n",
    "iterator.next(); // returns \"ab\"\n",
    "iterator.hasNext(); // returns true\n",
    "iterator.next(); // returns \"ac\"\n",
    "iterator.hasNext(); // returns true\n",
    "iterator.next(); // returns \"bc\"\n",
    "iterator.hasNext(); // returns false\n",
    " \n",
    "\n",
    "Constraints:\n",
    "\n",
    "1 <= combinationLength <= characters.length <= 15\n",
    "There will be at most 10^4 function calls per test.\n",
    "It's guaranteed that all calls of the function next are valid."
   ]
  },
  {
   "cell_type": "code",
   "execution_count": null,
   "metadata": {},
   "outputs": [],
   "source": [
    "from itertools import combinations\n",
    "class CombinationIterator:\n",
    "    \n",
    "    def __init__(self, characters: str, combinationLength: int):\n",
    "        self.characters=characters\n",
    "        self.combinationLength=combinationLength\n",
    "        self.l=list(combinations(self.characters,self.combinationLength))\n",
    "        self.i=0\n",
    "        self.it=iter(self.l)\n",
    "\n",
    "    def next(self) -> str:\n",
    "        \n",
    "        self.i+=1\n",
    "        return \"\".join(next(self.it))\n",
    "\n",
    "    def hasNext(self) -> bool:\n",
    "        if len(self.l)==self.i:\n",
    "            return False\n",
    "        return True\n",
    "        \n",
    "\n",
    "\n",
    "# Your CombinationIterator object will be instantiated and called as such:\n",
    "# obj = CombinationIterator(characters, combinationLength)\n",
    "# param_1 = obj.next()\n",
    "# param_2 = obj.hasNext()"
   ]
  },
  {
   "cell_type": "code",
   "execution_count": null,
   "metadata": {},
   "outputs": [],
   "source": []
  }
 ],
 "metadata": {
  "kernelspec": {
   "display_name": "Python 3",
   "language": "python",
   "name": "python3"
  },
  "language_info": {
   "codemirror_mode": {
    "name": "ipython",
    "version": 3
   },
   "file_extension": ".py",
   "mimetype": "text/x-python",
   "name": "python",
   "nbconvert_exporter": "python",
   "pygments_lexer": "ipython3",
   "version": "3.7.6"
  }
 },
 "nbformat": 4,
 "nbformat_minor": 4
}
