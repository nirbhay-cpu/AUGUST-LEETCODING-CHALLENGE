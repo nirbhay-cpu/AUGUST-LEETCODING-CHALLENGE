{
 "cells": [
  {
   "cell_type": "code",
   "execution_count": null,
   "metadata": {},
   "outputs": [],
   "source": [
    "QUESTION-\n",
    "\n",
    "Implement the StreamChecker class as follows:\n",
    "\n",
    "StreamChecker(words): Constructor, init the data structure with the given words.\n",
    "query(letter): returns true if and only if for some k >= 1, the last k characters queried (in order from oldest to newest, including this letter just queried) spell one of the words in the given list.\n",
    " \n",
    "\n",
    "Example:\n",
    "\n",
    "StreamChecker streamChecker = new StreamChecker([\"cd\",\"f\",\"kl\"]); // init the dictionary.\n",
    "streamChecker.query('a');          // return false\n",
    "streamChecker.query('b');          // return false\n",
    "streamChecker.query('c');          // return false\n",
    "streamChecker.query('d');          // return true, because 'cd' is in the wordlist\n",
    "streamChecker.query('e');          // return false\n",
    "streamChecker.query('f');          // return true, because 'f' is in the wordlist\n",
    "streamChecker.query('g');          // return false\n",
    "streamChecker.query('h');          // return false\n",
    "streamChecker.query('i');          // return false\n",
    "streamChecker.query('j');          // return false\n",
    "streamChecker.query('k');          // return false\n",
    "streamChecker.query('l');          // return true, because 'kl' is in the wordlist\n",
    " \n",
    "\n",
    "Note:\n",
    "\n",
    "1 <= words.length <= 2000\n",
    "1 <= words[i].length <= 2000\n",
    "Words will only consist of lowercase English letters.\n",
    "Queries will only consist of lowercase English letters.\n",
    "The number of queries is at most 40000."
   ]
  },
  {
   "cell_type": "code",
   "execution_count": null,
   "metadata": {},
   "outputs": [],
   "source": [
    "I have not do this topic yet....\n",
    "\n",
    "Hint :-  In this ,Trie data dtructure is used"
   ]
  },
  {
   "cell_type": "code",
   "execution_count": null,
   "metadata": {},
   "outputs": [],
   "source": []
  }
 ],
 "metadata": {
  "kernelspec": {
   "display_name": "Python 3",
   "language": "python",
   "name": "python3"
  },
  "language_info": {
   "codemirror_mode": {
    "name": "ipython",
    "version": 3
   },
   "file_extension": ".py",
   "mimetype": "text/x-python",
   "name": "python",
   "nbconvert_exporter": "python",
   "pygments_lexer": "ipython3",
   "version": "3.7.6"
  }
 },
 "nbformat": 4,
 "nbformat_minor": 4
}
