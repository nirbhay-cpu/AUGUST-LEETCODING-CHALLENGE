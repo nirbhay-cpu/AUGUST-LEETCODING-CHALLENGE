{
 "cells": [
  {
   "cell_type": "code",
   "execution_count": null,
   "metadata": {},
   "outputs": [],
   "source": [
    "QUESTION-\n",
    "\n",
    "Given the API rand7 which generates a uniform random integer in the range 1 to 7, write a function rand10 which generates a uniform random integer in the range 1 to 10. You can only call the API rand7 and you shouldn't call any other API. Please don't use the system's Math.random().\n",
    "\n",
    "Notice that Each test case has one argument n, the number of times that your implemented function rand10 will be called while testing. \n",
    "\n",
    "Follow up:\n",
    "\n",
    "What is the expected value for the number of calls to rand7() function?\n",
    "Could you minimize the number of calls to rand7()?\n",
    " \n",
    "\n",
    "Example 1:\n",
    "\n",
    "Input: n = 1\n",
    "Output: [2]\n",
    "Example 2:\n",
    "\n",
    "Input: n = 2\n",
    "Output: [2,8]\n",
    "Example 3:\n",
    "\n",
    "Input: n = 3\n",
    "Output: [3,8,10]\n",
    " \n",
    "\n",
    "Constraints:\n",
    "\n",
    "1 <= n <= 105"
   ]
  },
  {
   "cell_type": "code",
   "execution_count": null,
   "metadata": {},
   "outputs": [],
   "source": [
    "import random\n",
    "class Solution:\n",
    "    def rand10(self):\n",
    "        \"\"\"\n",
    "        :rtype: int\n",
    "        \n",
    "\n",
    "\n",
    "        \"\"\"\n",
    "        return random.randint(1,10)"
   ]
  }
 ],
 "metadata": {
  "kernelspec": {
   "display_name": "Python 3",
   "language": "python",
   "name": "python3"
  },
  "language_info": {
   "codemirror_mode": {
    "name": "ipython",
    "version": 3
   },
   "file_extension": ".py",
   "mimetype": "text/x-python",
   "name": "python",
   "nbconvert_exporter": "python",
   "pygments_lexer": "ipython3",
   "version": "3.7.6"
  }
 },
 "nbformat": 4,
 "nbformat_minor": 4
}
