{
 "cells": [
  {
   "cell_type": "code",
   "execution_count": null,
   "metadata": {},
   "outputs": [],
   "source": [
    "QUESTION-\n",
    "\n",
    "Given a list of non-overlapping axis-aligned rectangles rects, write a function pick which randomly and uniformily picks an integer point in the space covered by the rectangles.\n",
    "\n",
    "Note:\n",
    "\n",
    "An integer point is a point that has integer coordinates. \n",
    "A point on the perimeter of a rectangle is included in the space covered by the rectangles. \n",
    "ith rectangle = rects[i] = [x1,y1,x2,y2], where [x1, y1] are the integer coordinates of the bottom-left corner, and [x2, y2] are the integer coordinates of the top-right corner.\n",
    "length and width of each rectangle does not exceed 2000.\n",
    "1 <= rects.length <= 100\n",
    "pick return a point as an array of integer coordinates [p_x, p_y]\n",
    "pick is called at most 10000 times.\n",
    "Example 1:\n",
    "\n",
    "Input: \n",
    "[\"Solution\",\"pick\",\"pick\",\"pick\"]\n",
    "[[[[1,1,5,5]]],[],[],[]]\n",
    "Output: \n",
    "[null,[4,1],[4,1],[3,3]]\n",
    "Example 2:\n",
    "\n",
    "Input: \n",
    "[\"Solution\",\"pick\",\"pick\",\"pick\",\"pick\",\"pick\"]\n",
    "[[[[-2,-2,-1,-1],[1,0,3,0]]],[],[],[],[],[]]\n",
    "Output: \n",
    "[null,[-1,-2],[2,0],[-2,-1],[3,0],[-2,-2]]\n",
    "Explanation of Input Syntax:\n",
    "\n",
    "The input is two lists: the subroutines called and their arguments. Solution's constructor has one argument, the array of rectangles rects. pick has no arguments. Arguments are always wrapped with a list, even if there aren't any."
   ]
  },
  {
   "cell_type": "code",
   "execution_count": null,
   "metadata": {},
   "outputs": [],
   "source": [
    "import random\n",
    "class Solution:\n",
    "\n",
    "    def __init__(self, rects: List[List[int]]):\n",
    "        self.rects=rects\n",
    "        self.weight=[]\n",
    "        self.sum=0\n",
    "        \n",
    "        for x1,y1,x2,y2 in rects:\n",
    "            points=(x2-x1+1)*(y2-y1+1)\n",
    "            self.weight.append(points)\n",
    "            self.sum+=points\n",
    "        self.weight=[x/self.sum for x in self.weight]    \n",
    "\n",
    "    def pick(self) -> List[int]:\n",
    "        rectangle = random.choices(population=self.rects,weights=self.weight,k=1)[0]\n",
    "        x1,y1,x2,y2=rectangle\n",
    "        return [random.randint(x1,x2),random.randint(y1,y2)]\n",
    "        \n",
    "\n",
    "\n",
    "# Your Solution object will be instantiated and called as such:\n",
    "# obj = Solution(rects)\n",
    "# param_1 = obj.pick()"
   ]
  },
  {
   "cell_type": "code",
   "execution_count": null,
   "metadata": {},
   "outputs": [],
   "source": []
  }
 ],
 "metadata": {
  "kernelspec": {
   "display_name": "Python 3",
   "language": "python",
   "name": "python3"
  },
  "language_info": {
   "codemirror_mode": {
    "name": "ipython",
    "version": 3
   },
   "file_extension": ".py",
   "mimetype": "text/x-python",
   "name": "python",
   "nbconvert_exporter": "python",
   "pygments_lexer": "ipython3",
   "version": "3.7.6"
  }
 },
 "nbformat": 4,
 "nbformat_minor": 4
}
