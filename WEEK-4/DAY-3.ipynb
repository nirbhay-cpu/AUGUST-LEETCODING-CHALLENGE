{
 "cells": [
  {
   "cell_type": "code",
   "execution_count": null,
   "metadata": {},
   "outputs": [],
   "source": [
    "QUESTION-\n",
    "\n",
    "Find the sum of all left leaves in a given binary tree.\n",
    "\n",
    "Example:\n",
    "\n",
    "    3\n",
    "   / \\\n",
    "  9  20\n",
    "    /  \\\n",
    "   15   7\n",
    "\n",
    "There are two left leaves in the binary tree, with values 9 and 15 respectively. Return 24."
   ]
  },
  {
   "cell_type": "code",
   "execution_count": null,
   "metadata": {},
   "outputs": [],
   "source": [
    "class Solution {\n",
    "public:\n",
    "int c=0;\n",
    "void sum_left(struct TreeNode* root,int l)\n",
    "{\n",
    "    if(root==NULL) return;\n",
    "    if(root->left==NULL && root->right==NULL && l==1)\n",
    "    {\n",
    "        c = c+ root->val;\n",
    "        return;\n",
    "    }\n",
    "    sum_left(root->left,1);\n",
    "    sum_left(root->right,0);\n",
    "    \n",
    "}\n",
    "\n",
    "int sumOfLeftLeaves(struct TreeNode* root)\n",
    "{\n",
    "    \n",
    "    if(root==NULL)\n",
    "    {\n",
    "        return 0;\n",
    "    }\n",
    "    sum_left(root->left,1);\n",
    "    sum_left(root->right,0);\n",
    "    return c;\n",
    "    \n",
    "}\n",
    "};"
   ]
  },
  {
   "cell_type": "code",
   "execution_count": null,
   "metadata": {},
   "outputs": [],
   "source": []
  }
 ],
 "metadata": {
  "kernelspec": {
   "display_name": "Python 3",
   "language": "python",
   "name": "python3"
  },
  "language_info": {
   "codemirror_mode": {
    "name": "ipython",
    "version": 3
   },
   "file_extension": ".py",
   "mimetype": "text/x-python",
   "name": "python",
   "nbconvert_exporter": "python",
   "pygments_lexer": "ipython3",
   "version": "3.7.6"
  }
 },
 "nbformat": 4,
 "nbformat_minor": 4
}
