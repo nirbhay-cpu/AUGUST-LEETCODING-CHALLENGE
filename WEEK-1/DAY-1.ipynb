{
 "cells": [
  {
   "cell_type": "code",
   "execution_count": null,
   "metadata": {},
   "outputs": [],
   "source": [
    "QUESTION-\n",
    "\n",
    "Given a word, you need to judge whether the usage of capitals in it is right or not.\n",
    "\n",
    "We define the usage of capitals in a word to be right when one of the following cases holds:\n",
    "\n",
    "All letters in this word are capitals, like \"USA\".\n",
    "All letters in this word are not capitals, like \"leetcode\".\n",
    "Only the first letter in this word is capital, like \"Google\".\n",
    "Otherwise, we define that this word doesn't use capitals in a right way.\n",
    " \n",
    "\n",
    "Example 1:\n",
    "\n",
    "Input: \"USA\"\n",
    "Output: True\n",
    " \n",
    "\n",
    "Example 2:\n",
    "\n",
    "Input: \"FlaG\"\n",
    "Output: False"
   ]
  },
  {
   "cell_type": "code",
   "execution_count": 1,
   "metadata": {},
   "outputs": [],
   "source": [
    "def detectCapitalUse(self,str) -> bool:\n",
    "    \n",
    "        l=list(str)\n",
    "        a,b=0,0\n",
    "        \n",
    "        # check if all words are capital or only first word are capital\n",
    "        \n",
    "\n",
    "        l2=list(map(lambda x:x.isupper(),l))\n",
    "        if l2[0]==True:\n",
    "            for i in l2[1:]:\n",
    "                if i==True:\n",
    "                    a+=1\n",
    "                if i==False:\n",
    "                    b+=1\n",
    "            if a==(len(l2)-1) or b==(len(l2)-1)  :\n",
    "                return True\n",
    "        \n",
    "        # check if all word are in lower case\n",
    "        \n",
    "        \n",
    "        if l2[0]==False: \n",
    "            for i in l2[1:]:\n",
    "                if i==False:\n",
    "                    b+=1\n",
    "            if b==(len(l2)-1)  :\n",
    "                return True    \n",
    "                    \n",
    "        return False    "
   ]
  },
  {
   "cell_type": "code",
   "execution_count": null,
   "metadata": {},
   "outputs": [],
   "source": []
  }
 ],
 "metadata": {
  "kernelspec": {
   "display_name": "Python 3",
   "language": "python",
   "name": "python3"
  },
  "language_info": {
   "codemirror_mode": {
    "name": "ipython",
    "version": 3
   },
   "file_extension": ".py",
   "mimetype": "text/x-python",
   "name": "python",
   "nbconvert_exporter": "python",
   "pygments_lexer": "ipython3",
   "version": "3.7.6"
  }
 },
 "nbformat": 4,
 "nbformat_minor": 4
}
