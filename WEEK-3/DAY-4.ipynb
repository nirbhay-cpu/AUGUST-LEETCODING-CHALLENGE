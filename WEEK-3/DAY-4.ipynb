{
 "cells": [
  {
   "cell_type": "code",
   "execution_count": null,
   "metadata": {},
   "outputs": [],
   "source": [
    "QUESTION-\n",
    "\n",
    "Return all non-negative integers of length N such that the absolute difference between every two consecutive digits is K.\n",
    "\n",
    "Note that every number in the answer must not have leading zeros except for the number 0 itself. For example, 01 has one leading zero and is invalid, but 0 is valid.\n",
    "\n",
    "You may return the answer in any order.\n",
    "\n",
    " \n",
    "\n",
    "Example 1:\n",
    "\n",
    "Input: N = 3, K = 7\n",
    "Output: [181,292,707,818,929]\n",
    "Explanation: Note that 070 is not a valid number, because it has leading zeroes.\n",
    "Example 2:\n",
    "\n",
    "Input: N = 2, K = 1\n",
    "Output: [10,12,21,23,32,34,43,45,54,56,65,67,76,78,87,89,98]"
   ]
  },
  {
   "cell_type": "code",
   "execution_count": null,
   "metadata": {},
   "outputs": [],
   "source": [
    "class Solution:\n",
    "    def numsSameConsecDiff(self, N: int, K: int) -> List[int]:\n",
    "        final=[]\n",
    "\n",
    "        def dfs(st,num):\n",
    "            if len(st)==N:\n",
    "                final.append(st)\n",
    "                return\n",
    "\n",
    "            if num-K>=0:\n",
    "                dfs(st+str(num-K),num-K)\n",
    "\n",
    "            if num+K<10:\n",
    "                dfs(st+str(num+K),num+K)\n",
    "\n",
    "        for i in range(10):\n",
    "            if i==0 and N!=1:\n",
    "                continue\n",
    "            dfs(str(i),i)\n",
    "            \n",
    "        return list(set([int(x) for x in final]))"
   ]
  },
  {
   "cell_type": "code",
   "execution_count": null,
   "metadata": {},
   "outputs": [],
   "source": []
  }
 ],
 "metadata": {
  "kernelspec": {
   "display_name": "Python 3",
   "language": "python",
   "name": "python3"
  },
  "language_info": {
   "codemirror_mode": {
    "name": "ipython",
    "version": 3
   },
   "file_extension": ".py",
   "mimetype": "text/x-python",
   "name": "python",
   "nbconvert_exporter": "python",
   "pygments_lexer": "ipython3",
   "version": "3.7.6"
  }
 },
 "nbformat": 4,
 "nbformat_minor": 4
}
