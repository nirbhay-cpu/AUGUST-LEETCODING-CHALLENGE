{
 "cells": [
  {
   "cell_type": "code",
   "execution_count": null,
   "metadata": {},
   "outputs": [],
   "source": [
    "QUESTION-\n",
    "\n",
    "Given a singly linked list L: L0→L1→…→Ln-1→Ln,\n",
    "reorder it to: L0→Ln→L1→Ln-1→L2→Ln-2→…\n",
    "\n",
    "You may not modify the values in the list's nodes, only nodes itself may be changed.\n",
    "\n",
    "Example 1:\n",
    "\n",
    "Given 1->2->3->4, reorder it to 1->4->2->3.\n",
    "Example 2:\n",
    "\n",
    "Given 1->2->3->4->5, reorder it to 1->5->2->4->3."
   ]
  },
  {
   "cell_type": "code",
   "execution_count": null,
   "metadata": {},
   "outputs": [],
   "source": [
    "class Solution \n",
    "{\n",
    "public:\n",
    "    void reorderList(ListNode* head) \n",
    "    {\n",
    "        if ((!head) || (!head->next) || (!head->next->next)) return; // Edge cases\n",
    "        \n",
    "        stack<ListNode*> my_stack;\n",
    "        ListNode* ptr = head;\n",
    "        int size = 0;\n",
    "        while (ptr != NULL) // Put all nodes in stack\n",
    "        {\n",
    "            my_stack.push(ptr);\n",
    "            size++;\n",
    "            ptr = ptr->next;\n",
    "        }\n",
    "        \n",
    "        ListNode* pptr = head;\n",
    "        for (int j=0; j<size/2; j++) // Between every two nodes insert the one in the top of the stack\n",
    "        {\n",
    "            ListNode *element = my_stack.top();\n",
    "            my_stack.pop();\n",
    "            element->next = pptr->next;\n",
    "            pptr->next = element;\n",
    "            pptr = pptr->next->next;\n",
    "        }\n",
    "        pptr->next = NULL;\n",
    "    \n",
    "    }\n",
    "};"
   ]
  },
  {
   "cell_type": "code",
   "execution_count": null,
   "metadata": {},
   "outputs": [],
   "source": [
    "I LEARNT THIS BY ANOTHER CODER."
   ]
  },
  {
   "cell_type": "code",
   "execution_count": null,
   "metadata": {},
   "outputs": [],
   "source": []
  }
 ],
 "metadata": {
  "kernelspec": {
   "display_name": "Python 3",
   "language": "python",
   "name": "python3"
  },
  "language_info": {
   "codemirror_mode": {
    "name": "ipython",
    "version": 3
   },
   "file_extension": ".py",
   "mimetype": "text/x-python",
   "name": "python",
   "nbconvert_exporter": "python",
   "pygments_lexer": "ipython3",
   "version": "3.7.6"
  }
 },
 "nbformat": 4,
 "nbformat_minor": 4
}
